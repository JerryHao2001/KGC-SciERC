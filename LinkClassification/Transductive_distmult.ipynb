{
 "cells": [
  {
   "cell_type": "code",
   "execution_count": null,
   "id": "00ec3d8f",
   "metadata": {},
   "outputs": [
    {
     "name": "stderr",
     "output_type": "stream",
     "text": [
      "c:\\Users\\jerry\\AppData\\Local\\Programs\\Python\\Python312\\Lib\\site-packages\\tqdm\\auto.py:21: TqdmWarning: IProgress not found. Please update jupyter and ipywidgets. See https://ipywidgets.readthedocs.io/en/stable/user_install.html\n",
      "  from .autonotebook import tqdm as notebook_tqdm\n"
     ]
    }
   ],
   "source": [
    "import torch\n",
    "import torch.nn as nn\n",
    "import torch.nn.functional as F\n",
    "from torch.optim import AdamW\n",
    "from torch.utils.data import DataLoader, TensorDataset\n",
    "from tqdm.auto import tqdm\n",
    "\n",
    "def load_triples(path):\n",
    "    triples = []\n",
    "    with open(path) as f:\n",
    "        for line in f:\n",
    "            h, r, t = line.strip().split()[:3]\n",
    "            triples.append((h, r, t))\n",
    "    return triples\n",
    "\n",
    "train_triples = load_triples(\"../graph_data/train.tsv\")\n",
    "dev_triples =  load_triples(\"../graph_data/dev.tsv\")\n",
    "test_triples =  load_triples(\"../graph_data/test.tsv\")\n",
    "\n",
    "\n",
    "entities = sorted({e for (h, _, t) in train_triples + dev_triples + test_triples for e in (h, t)})\n",
    "relations = sorted({r for (_, r, _) in train_triples + dev_triples + test_triples})\n",
    "ent2id = {e: i for i, e in enumerate(entities)}\n",
    "rel2id = {r: i for i, r in enumerate(relations)}\n",
    "\n",
    "\n",
    "def encode_cls(triples):\n",
    "    return torch.tensor([[ent2id[h], ent2id[t], rel2id[r]] for h, r, t in triples], dtype=torch.long)\n",
    "\n",
    "train_data = encode_cls(train_triples)\n",
    "dev_data   = encode_cls(dev_triples)\n",
    "test_data  = encode_cls(test_triples)\n",
    "\n",
    "\n",
    "batch_size = 512\n",
    "train_loader = DataLoader(TensorDataset(train_data), batch_size=batch_size, shuffle=True)\n",
    "dev_loader   = DataLoader(TensorDataset(dev_data),   batch_size=batch_size)\n",
    "test_loader  = DataLoader(TensorDataset(test_data),  batch_size=batch_size)\n",
    "\n",
    "\n",
    "class DistMultClassifier(nn.Module):\n",
    "    def __init__(self, num_ent, num_rel, dim):\n",
    "        super().__init__()\n",
    "        self.ent = nn.Embedding(num_ent, dim)\n",
    "        self.rel = nn.Embedding(num_rel, dim)\n",
    "        nn.init.xavier_uniform_(self.ent.weight)\n",
    "        nn.init.xavier_uniform_(self.rel.weight)\n",
    "\n",
    "    def forward(self, h, t):\n",
    "\n",
    "        h_e = self.ent(h)\n",
    "        t_e = self.ent(t)\n",
    "\n",
    "        scores = (h_e.unsqueeze(1) * self.rel.weight.unsqueeze(0) * t_e.unsqueeze(1)).sum(dim=-1)\n",
    "        return scores\n",
    "\n"
   ]
  },
  {
   "cell_type": "code",
   "execution_count": 2,
   "id": "b244db20",
   "metadata": {},
   "outputs": [
    {
     "name": "stdout",
     "output_type": "stream",
     "text": [
      "Epoch 10 | Train Loss: 1.9441\n",
      "Epoch 20 | Train Loss: 1.9399\n",
      "Epoch 30 | Train Loss: 1.9304\n",
      "Epoch 40 | Train Loss: 1.9110\n",
      "Epoch 50 | Train Loss: 1.8767\n",
      "Epoch 60 | Train Loss: 1.8231\n",
      "Epoch 70 | Train Loss: 1.7471\n",
      "Epoch 80 | Train Loss: 1.6481\n",
      "Epoch 90 | Train Loss: 1.5272\n",
      "Epoch 100 | Train Loss: 1.3886\n",
      "Epoch 110 | Train Loss: 1.2384\n",
      "Epoch 120 | Train Loss: 1.0847\n",
      "Epoch 130 | Train Loss: 0.9353\n",
      "Epoch 140 | Train Loss: 0.7962\n",
      "Epoch 150 | Train Loss: 0.6712\n",
      "Epoch 160 | Train Loss: 0.5619\n",
      "Epoch 170 | Train Loss: 0.4686\n",
      "Epoch 180 | Train Loss: 0.3900\n",
      "Epoch 190 | Train Loss: 0.3247\n",
      "Epoch 200 | Train Loss: 0.2707\n"
     ]
    }
   ],
   "source": [
    "\n",
    "device = 'cuda' if torch.cuda.is_available() else 'cpu'\n",
    "model = DistMultClassifier(len(entities), len(relations), dim=100).to(device)\n",
    "optimizer = AdamW(model.parameters(), lr=2e-4, weight_decay=1e-4)\n",
    "\n",
    "for epoch in range(1, 201):\n",
    "    model.train()\n",
    "    total_loss = 0\n",
    "    for batch in train_loader:\n",
    "        batch = batch[0].to(device)\n",
    "        h, t, r = batch[:,0], batch[:,1], batch[:,2]\n",
    "        logits = model(h, t)  # [B, R]\n",
    "        loss = F.cross_entropy(logits, r)\n",
    "        optimizer.zero_grad()\n",
    "        loss.backward()\n",
    "        optimizer.step()\n",
    "        total_loss += loss.item() * h.size(0)\n",
    "    if epoch % 10 == 0:\n",
    "        avg_loss = total_loss / len(train_data)\n",
    "        print(f\"Epoch {epoch:02d} | Train Loss: {avg_loss:.4f}\")\n",
    "\n"
   ]
  },
  {
   "cell_type": "code",
   "execution_count": null,
   "id": "d7c7961f",
   "metadata": {},
   "outputs": [
    {
     "name": "stdout",
     "output_type": "stream",
     "text": [
      "Dev ▶ Acc=0.5652 MRR=0.6869 Hits@1=0.5652 Hits@3=0.7174\n",
      "Test ▶ Acc=0.4783 MRR=0.6583 Hits@1=0.4783 Hits@3=0.7609\n"
     ]
    }
   ],
   "source": [
    "\n",
    "def eval_relation_metrics(data_tensor, ks=(1,3,10)):\n",
    "    model.eval()\n",
    "    correct = 0\n",
    "    ranks = []\n",
    "    with torch.no_grad():\n",
    "        for h, t, r in data_tensor:\n",
    "            h_t = torch.tensor([h], device=device)\n",
    "            t_t = torch.tensor([t], device=device)\n",
    "            true_r = r.item()\n",
    "            scores = model(h_t, t_t).squeeze(0)\n",
    "\n",
    "            pred = scores.argmax().item()\n",
    "            correct += (pred == true_r)\n",
    "\n",
    "            _, idxs = scores.sort(descending=True)\n",
    "            rank = (idxs == true_r).nonzero(as_tuple=False).item() + 1\n",
    "            ranks.append(rank)\n",
    "    acc = correct / len(data_tensor)\n",
    "    ranks = torch.tensor(ranks, dtype=torch.float)\n",
    "    mrr = (1.0 / ranks).mean().item()\n",
    "    hits = {f\"Hits@{k}\": (ranks <= k).float().mean().item() for k in ks}\n",
    "    return acc, mrr, hits\n",
    "\n",
    "dev_acc, dev_mrr, dev_hits = eval_relation_metrics(dev_data)\n",
    "test_acc, test_mrr, test_hits = eval_relation_metrics(test_data)\n",
    "print(f\"Dev ▶ Acc={dev_acc:.4f} MRR={dev_mrr:.4f} Hits@1={dev_hits['Hits@1']:.4f} Hits@3={dev_hits['Hits@3']:.4f}\")\n",
    "print(f\"Test ▶ Acc={test_acc:.4f} MRR={test_mrr:.4f} Hits@1={test_hits['Hits@1']:.4f} Hits@3={test_hits['Hits@3']:.4f}\")\n"
   ]
  }
 ],
 "metadata": {
  "kernelspec": {
   "display_name": "Python 3",
   "language": "python",
   "name": "python3"
  },
  "language_info": {
   "codemirror_mode": {
    "name": "ipython",
    "version": 3
   },
   "file_extension": ".py",
   "mimetype": "text/x-python",
   "name": "python",
   "nbconvert_exporter": "python",
   "pygments_lexer": "ipython3",
   "version": "3.12.8"
  }
 },
 "nbformat": 4,
 "nbformat_minor": 5
}
