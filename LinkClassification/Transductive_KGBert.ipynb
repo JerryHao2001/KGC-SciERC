{
 "cells": [
  {
   "cell_type": "code",
   "execution_count": null,
   "id": "98fb4f5e",
   "metadata": {},
   "outputs": [
    {
     "name": "stderr",
     "output_type": "stream",
     "text": [
      "c:\\Users\\jerry\\AppData\\Local\\Programs\\Python\\Python312\\Lib\\site-packages\\tqdm\\auto.py:21: TqdmWarning: IProgress not found. Please update jupyter and ipywidgets. See https://ipywidgets.readthedocs.io/en/stable/user_install.html\n",
      "  from .autonotebook import tqdm as notebook_tqdm\n"
     ]
    }
   ],
   "source": [
    "import json, torch, random\n",
    "import torch.nn.functional as F\n",
    "from torch.utils.data import Dataset, DataLoader\n",
    "from transformers import BertTokenizer, BertForSequenceClassification, AdamW\n",
    "from tqdm.auto import tqdm\n",
    "\n",
    "def load_triples(path):\n",
    "    triples = []\n",
    "    with open(path, 'r') as f:\n",
    "        for line in f:\n",
    "            h, r, t = line.strip().split()[:3]\n",
    "            triples.append((h, r, t))\n",
    "    return triples\n",
    "\n",
    "with open('../graph_data/entities.json', 'r') as f:\n",
    "    ent2text = json.load(f)\n",
    "\n",
    "\n",
    "train_triples = load_triples(\"../graph_data/train.tsv\")\n",
    "dev_triples =  load_triples(\"../graph_data/dev.tsv\")\n",
    "test_triples =  load_triples(\"../graph_data/test.tsv\")\n",
    "\n",
    "# Build relation vocabulary\n",
    "relations = sorted({r for _, r, _ in train_triples + dev_triples + test_triples})\n",
    "rel2id = {r: i for i, r in enumerate(relations)}\n",
    "\n",
    "\n",
    "tokenizer = BertTokenizer.from_pretrained('bert-base-uncased')\n",
    "class KGRelDataset(Dataset):\n",
    "    def __init__(self, triples):\n",
    "        self.examples = []\n",
    "        for h, r, t in triples:\n",
    "            head_txt = ent2text[h]['canonical']\n",
    "            tail_txt = ent2text[t]['canonical']\n",
    "            enc = tokenizer(\n",
    "                head_txt,\n",
    "                tail_txt,\n",
    "                padding='max_length', truncation=True, max_length=64,\n",
    "                return_tensors='pt'\n",
    "            )\n",
    "            enc = {k: v.squeeze(0) for k, v in enc.items()}\n",
    "            enc['labels'] = torch.tensor(rel2id[r], dtype=torch.long)\n",
    "            self.examples.append(enc)\n",
    "\n",
    "    def __len__(self):\n",
    "        return len(self.examples)\n",
    "    def __getitem__(self, idx):\n",
    "        return self.examples[idx]\n",
    "\n",
    "\n",
    "def load_triples(path):\n",
    "    with open(path) as f:\n",
    "        return [tuple(line.strip().split()[:3]) for line in f]\n",
    "\n",
    "\n",
    "train_triples = load_triples(\"../graph_data/train.tsv\")\n",
    "dev_triples =  load_triples(\"../graph_data/dev.tsv\")\n",
    "test_triples =  load_triples(\"../graph_data/test.tsv\")\n",
    "\n",
    "batch_size = 16\n",
    "train_ds = KGRelDataset(train_triples)\n",
    "dev_ds   = KGRelDataset(dev_triples)\n",
    "test_ds  = KGRelDataset(test_triples)\n",
    "\n",
    "def collate_fn(batch):\n",
    "    out = {}\n",
    "    for k in batch[0].keys():\n",
    "        out[k] = torch.stack([ex[k] for ex in batch])\n",
    "    return out\n",
    "\n",
    "train_loader = DataLoader(train_ds, batch_size=batch_size, shuffle=True, collate_fn=collate_fn)\n",
    "dev_loader   = DataLoader(dev_ds,   batch_size=batch_size, shuffle=False, collate_fn=collate_fn)\n",
    "test_loader  = DataLoader(test_ds,  batch_size=batch_size, shuffle=False, collate_fn=collate_fn)\n",
    "\n"
   ]
  },
  {
   "cell_type": "code",
   "execution_count": null,
   "id": "d11b62c5",
   "metadata": {},
   "outputs": [
    {
     "name": "stderr",
     "output_type": "stream",
     "text": [
      "Some weights of BertForSequenceClassification were not initialized from the model checkpoint at bert-base-uncased and are newly initialized: ['classifier.bias', 'classifier.weight']\n",
      "You should probably TRAIN this model on a down-stream task to be able to use it for predictions and inference.\n",
      "c:\\Users\\jerry\\AppData\\Local\\Programs\\Python\\Python312\\Lib\\site-packages\\transformers\\optimization.py:591: FutureWarning: This implementation of AdamW is deprecated and will be removed in a future version. Use the PyTorch implementation torch.optim.AdamW instead, or set `no_deprecation_warning=True` to disable this warning\n",
      "  warnings.warn(\n",
      "                                                                   \r"
     ]
    },
    {
     "name": "stdout",
     "output_type": "stream",
     "text": [
      "Epoch 01 | Train Loss: 1.3830\n"
     ]
    },
    {
     "name": "stderr",
     "output_type": "stream",
     "text": [
      "                                                                   \r"
     ]
    },
    {
     "name": "stdout",
     "output_type": "stream",
     "text": [
      "Epoch 02 | Train Loss: 1.0273\n"
     ]
    },
    {
     "name": "stderr",
     "output_type": "stream",
     "text": [
      "                                                                   \r"
     ]
    },
    {
     "name": "stdout",
     "output_type": "stream",
     "text": [
      "Epoch 03 | Train Loss: 0.7544\n"
     ]
    },
    {
     "name": "stderr",
     "output_type": "stream",
     "text": [
      "                                                                   \r"
     ]
    },
    {
     "name": "stdout",
     "output_type": "stream",
     "text": [
      "Epoch 04 | Train Loss: 0.5336\n"
     ]
    },
    {
     "name": "stderr",
     "output_type": "stream",
     "text": [
      "                                                                   "
     ]
    },
    {
     "name": "stdout",
     "output_type": "stream",
     "text": [
      "Epoch 05 | Train Loss: 0.3588\n"
     ]
    },
    {
     "name": "stderr",
     "output_type": "stream",
     "text": [
      "\r"
     ]
    }
   ],
   "source": [
    "device = 'cuda' if torch.cuda.is_available() else 'cpu'\n",
    "model = BertForSequenceClassification.from_pretrained(\n",
    "    'bert-base-uncased', num_labels=7\n",
    ").to(device)\n",
    "optimizer = AdamW(model.parameters(), lr=2e-5, weight_decay=1e-4)\n",
    "\n",
    "for epoch in range(1, 6):\n",
    "    model.train()\n",
    "    total_loss = 0\n",
    "    for batch in tqdm(train_loader, desc=f\"Epoch {epoch} Training\", leave=False):\n",
    "        inputs = {k: v.to(device) for k, v in batch.items() if k != 'labels'}\n",
    "        labels = batch['labels'].to(device)\n",
    "        outputs = model(**inputs, labels=labels)\n",
    "        loss = outputs.loss\n",
    "        optimizer.zero_grad()\n",
    "        loss.backward()\n",
    "        optimizer.step()\n",
    "        total_loss += loss.item() * labels.size(0)\n",
    "    # if epoch % 10 == 0:\n",
    "    print(f\"Epoch {epoch:02d} | Train Loss: {total_loss/len(train_ds):.4f}\")\n",
    "\n"
   ]
  },
  {
   "cell_type": "code",
   "execution_count": null,
   "id": "b01313a3",
   "metadata": {},
   "outputs": [
    {
     "name": "stdout",
     "output_type": "stream",
     "text": [
      "Dev ▶ Acc=0.7391, MRR=0.8232, H@10=1.0000\n",
      "Test Acc: 0.6304 | Test MRR: 0.7460 | Hits@1: 0.6304 | Hits@3: 0.8043\n"
     ]
    }
   ],
   "source": [
    "\n",
    "@torch.no_grad()\n",
    "def eval_metrics(loader):\n",
    "    model.eval()\n",
    "    correct = 0\n",
    "    ranks = []\n",
    "    for batch in loader:\n",
    "        inputs = {k: v.to(device) for k, v in batch.items() if k != 'labels'}\n",
    "        labels = batch['labels'].to(device)\n",
    "        logits = model(**inputs).logits \n",
    "        preds = logits.argmax(dim=-1)\n",
    "        correct += (preds == labels).sum().item()\n",
    "        for i, true_r in enumerate(labels):\n",
    "            scores = logits[i]\n",
    "            _, idxs = torch.sort(scores, descending=True)\n",
    "            rank = (idxs == true_r).nonzero(as_tuple=False).item() + 1\n",
    "            ranks.append(rank)\n",
    "    acc = correct / len(loader.dataset)\n",
    "    ranks = torch.tensor(ranks, dtype=torch.float, device=device)\n",
    "    mrr = (1.0 / ranks).mean().item()\n",
    "    hits = {f\"Hits@{k}\": (ranks <= k).float().mean().item() for k in (1,3,10)}\n",
    "    return acc, mrr, hits\n",
    "\n",
    "dev_acc, dev_mrr, dev_hits = eval_metrics(dev_loader)\n",
    "print(f\"Dev ▶ Acc={dev_acc:.4f}, MRR={dev_mrr:.4f}, H@10={dev_hits['Hits@10']:.4f}\")\n",
    "test_acc, test_mrr, test_hits = eval_metrics(test_loader)\n",
    "print(f\"Test Acc: {test_acc:.4f} | Test MRR: {test_mrr:.4f} | Hits@1: {test_hits['Hits@1']:.4f} | Hits@3: {test_hits['Hits@3']:.4f}\")\n"
   ]
  }
 ],
 "metadata": {
  "kernelspec": {
   "display_name": "Python 3",
   "language": "python",
   "name": "python3"
  },
  "language_info": {
   "codemirror_mode": {
    "name": "ipython",
    "version": 3
   },
   "file_extension": ".py",
   "mimetype": "text/x-python",
   "name": "python",
   "nbconvert_exporter": "python",
   "pygments_lexer": "ipython3",
   "version": "3.12.8"
  }
 },
 "nbformat": 4,
 "nbformat_minor": 5
}
