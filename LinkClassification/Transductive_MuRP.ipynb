{
 "cells": [
  {
   "cell_type": "code",
   "execution_count": null,
   "id": "6b649b8e",
   "metadata": {},
   "outputs": [
    {
     "name": "stderr",
     "output_type": "stream",
     "text": [
      "c:\\Users\\jerry\\AppData\\Local\\Programs\\Python\\Python312\\Lib\\site-packages\\tqdm\\auto.py:21: TqdmWarning: IProgress not found. Please update jupyter and ipywidgets. See https://ipywidgets.readthedocs.io/en/stable/user_install.html\n",
      "  from .autonotebook import tqdm as notebook_tqdm\n"
     ]
    }
   ],
   "source": [
    "import random\n",
    "import torch\n",
    "import torch.nn as nn\n",
    "import torch.nn.functional as F\n",
    "from torch.optim import AdamW\n",
    "from torch.utils.data import DataLoader, TensorDataset\n",
    "from tqdm.auto import tqdm"
   ]
  },
  {
   "cell_type": "code",
   "execution_count": null,
   "id": "9064d907",
   "metadata": {},
   "outputs": [
    {
     "name": "stdout",
     "output_type": "stream",
     "text": [
      "Epoch 10 | Train Loss: 1.3982\n",
      "Epoch 20 | Train Loss: 0.8642\n",
      "Epoch 30 | Train Loss: 0.5762\n",
      "Epoch 40 | Train Loss: 0.4007\n",
      "Epoch 50 | Train Loss: 0.2907\n",
      "Epoch 60 | Train Loss: 0.2201\n",
      "Epoch 70 | Train Loss: 0.1718\n",
      "Epoch 80 | Train Loss: 0.1394\n",
      "Epoch 90 | Train Loss: 0.1148\n",
      "Epoch 100 | Train Loss: 0.0994\n",
      "Epoch 110 | Train Loss: 0.0881\n",
      "Epoch 120 | Train Loss: 0.0772\n",
      "Epoch 130 | Train Loss: 0.0704\n",
      "Epoch 140 | Train Loss: 0.0629\n",
      "Epoch 150 | Train Loss: 0.0572\n",
      "Epoch 160 | Train Loss: 0.0558\n",
      "Epoch 170 | Train Loss: 0.0495\n",
      "Epoch 180 | Train Loss: 0.0456\n",
      "Epoch 190 | Train Loss: 0.0419\n",
      "Epoch 200 | Train Loss: 0.0423\n"
     ]
    }
   ],
   "source": [
    "\n",
    "def mobius_add(x, y, eps=1e-5):\n",
    "    xy = (x * y).sum(dim=-1, keepdim=True)\n",
    "    x2 = (x * x).sum(dim=-1, keepdim=True)\n",
    "    y2 = (y * y).sum(dim=-1, keepdim=True)\n",
    "    num = (1 + 2*xy + y2) * x + (1 - x2) * y\n",
    "    denom = 1 + 2*xy + x2*y2\n",
    "    return num / denom.clamp_min(eps)\n",
    "\n",
    "def hyp_distance(x, y, eps=1e-5):\n",
    "    x2 = (x * x).sum(dim=-1)\n",
    "    y2 = (y * y).sum(dim=-1)\n",
    "    diff2 = ((x - y) ** 2).sum(dim=-1)\n",
    "    denom = (1 - x2) * (1 - y2)\n",
    "    z = 1 + 2*diff2 / denom.clamp_min(eps)\n",
    "    return torch.acosh(z.clamp_min(1 + eps))\n",
    "\n",
    "\n",
    "class MuRPClassifier(nn.Module):\n",
    "    def __init__(self, num_ent, num_rel, dim):\n",
    "        super().__init__()\n",
    "        self.ent = nn.Embedding(num_ent, dim)\n",
    "        self.rel = nn.Embedding(num_rel, dim)\n",
    "        nn.init.uniform_(self.ent.weight, -0.001, 0.001)\n",
    "        nn.init.uniform_(self.rel.weight, -0.001, 0.001)\n",
    "\n",
    "    def forward(self, h, t):\n",
    "        h_e = self.ent(h)\n",
    "        t_e = self.ent(t)\n",
    "        ph = self.rel.weight.tanh()       \n",
    "\n",
    "        h_r = mobius_add(h_e.unsqueeze(1), ph.unsqueeze(0)) \n",
    "\n",
    "        dist = hyp_distance(h_r, t_e.unsqueeze(1))         \n",
    "        return -dist  \n",
    "\n",
    "\n",
    "def load_triples(path):\n",
    "    triples = []\n",
    "    with open(path) as f:\n",
    "        for line in f:\n",
    "            h, r, t = line.strip().split()[:3]\n",
    "            triples.append((h, r, t))\n",
    "    return triples\n",
    "\n",
    "train_triples = load_triples(\"../graph_data/train.tsv\")\n",
    "dev_triples =  load_triples(\"../graph_data/dev.tsv\")\n",
    "test_triples =  load_triples(\"../graph_data/test.tsv\")\n",
    "\n",
    "entities = sorted({e for h,_,t in train_triples+dev_triples+test_triples for e in (h,t)})\n",
    "relations = sorted({r for _,r,_ in train_triples+dev_triples+test_triples})\n",
    "ent2id = {e:i for i,e in enumerate(entities)}\n",
    "rel2id = {r:i for i,r in enumerate(relations)}\n",
    "\n",
    "def encode_cls(triples):\n",
    "    return torch.tensor([[ent2id[h], ent2id[t], rel2id[r]] for h,r,t in triples], dtype=torch.long)\n",
    "\n",
    "train_data = encode_cls(train_triples)\n",
    "dev_data   = encode_cls(dev_triples)\n",
    "test_data  = encode_cls(test_triples)\n",
    "\n",
    "\n",
    "batch_size = 512\n",
    "train_loader = DataLoader(TensorDataset(train_data), batch_size=batch_size, shuffle=True)\n",
    "dev_loader   = DataLoader(TensorDataset(dev_data),   batch_size=batch_size)\n",
    "test_loader  = DataLoader(TensorDataset(test_data),  batch_size=batch_size)\n",
    "\n",
    "\n",
    "device = 'cuda' if torch.cuda.is_available() else 'cpu'\n",
    "model = MuRPClassifier(len(entities), len(relations), dim=100).to(device)\n",
    "optimizer = AdamW(model.parameters(), lr=5e-4, weight_decay=1e-4)\n",
    "\n",
    "for epoch in range(1, 201):\n",
    "    model.train()\n",
    "    total_loss = 0\n",
    "    for batch in train_loader:\n",
    "        batch = batch[0].to(device)\n",
    "        h, t, r = batch[:,0], batch[:,1], batch[:,2]\n",
    "        scores = model(h, t)       \n",
    "        loss = F.cross_entropy(scores, r)\n",
    "        optimizer.zero_grad(); loss.backward(); optimizer.step()\n",
    "        total_loss += loss.item() * h.size(0)\n",
    "    if epoch % 10 == 0:\n",
    "        print(f\"Epoch {epoch:02d} | Train Loss: {total_loss/len(train_data):.4f}\")\n",
    "\n",
    "\n"
   ]
  },
  {
   "cell_type": "code",
   "execution_count": null,
   "id": "a1400ea4",
   "metadata": {},
   "outputs": [
    {
     "name": "stdout",
     "output_type": "stream",
     "text": [
      "Dev ▶ Acc=0.3696 MRR=0.5736 Hits@1=0.3696 Hits@3=0.7391\n",
      "Test ▶ Acc=0.3261 MRR=0.5557 Hits@1=0.3261 Hits@3=0.7826\n"
     ]
    }
   ],
   "source": [
    "\n",
    "def eval_relation_metrics(data_tensor, ks=(1,3,10)):\n",
    "    model.eval()\n",
    "    correct = 0\n",
    "    ranks = []\n",
    "    with torch.no_grad():\n",
    "        for h, t, r in data_tensor:\n",
    "            h_t = torch.tensor([h], device=device)\n",
    "            t_t = torch.tensor([t], device=device)\n",
    "            true_r = r.item()\n",
    "            scores = model(h_t, t_t).squeeze(0)\n",
    "            pred = scores.argmax().item()\n",
    "            correct += (pred == true_r)\n",
    "\n",
    "            _, idxs = scores.sort(descending=True)\n",
    "            rank = (idxs == true_r).nonzero(as_tuple=False).item() + 1\n",
    "            ranks.append(rank)\n",
    "    acc = correct / len(data_tensor)\n",
    "    ranks = torch.tensor(ranks, dtype=torch.float)\n",
    "    mrr = (1.0/ranks).mean().item()\n",
    "    hits = {f\"Hits@{k}\": (ranks<=k).float().mean().item() for k in ks}\n",
    "    return acc, mrr, hits\n",
    "\n",
    "\n",
    "dev_acc, dev_mrr, dev_hits = eval_relation_metrics(dev_data)\n",
    "test_acc, test_mrr, test_hits = eval_relation_metrics(test_data)\n",
    "print(f\"Dev ▶ Acc={dev_acc:.4f} MRR={dev_mrr:.4f} Hits@1={dev_hits['Hits@1']:.4f} Hits@3={dev_hits['Hits@3']:.4f}\")\n",
    "print(f\"Test ▶ Acc={test_acc:.4f} MRR={test_mrr:.4f} Hits@1={test_hits['Hits@1']:.4f} Hits@3={test_hits['Hits@3']:.4f}\")"
   ]
  },
  {
   "cell_type": "code",
   "execution_count": null,
   "id": "578b4c0e",
   "metadata": {},
   "outputs": [],
   "source": []
  }
 ],
 "metadata": {
  "kernelspec": {
   "display_name": "Python 3",
   "language": "python",
   "name": "python3"
  },
  "language_info": {
   "codemirror_mode": {
    "name": "ipython",
    "version": 3
   },
   "file_extension": ".py",
   "mimetype": "text/x-python",
   "name": "python",
   "nbconvert_exporter": "python",
   "pygments_lexer": "ipython3",
   "version": "3.12.8"
  }
 },
 "nbformat": 4,
 "nbformat_minor": 5
}
